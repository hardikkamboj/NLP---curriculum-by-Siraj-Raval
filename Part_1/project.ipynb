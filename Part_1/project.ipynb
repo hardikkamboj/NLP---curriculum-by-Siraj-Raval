{
 "cells": [
  {
   "cell_type": "code",
   "execution_count": 36,
   "metadata": {},
   "outputs": [
    {
     "name": "stderr",
     "output_type": "stream",
     "text": [
      "[nltk_data] Downloading package wordnet to /home/hardik/nltk_data...\n",
      "[nltk_data]   Package wordnet is already up-to-date!\n"
     ]
    },
    {
     "data": {
      "text/plain": [
       "True"
      ]
     },
     "execution_count": 36,
     "metadata": {},
     "output_type": "execute_result"
    }
   ],
   "source": [
    "from nltk.corpus import stopwords\n",
    "from nltk.tokenize import word_tokenize\n",
    "from nltk.text import Text\n",
    "from nltk.stem import WordNetLemmatizer,PorterStemmer \n",
    "nltk.download('wordnet')"
   ]
  },
  {
   "cell_type": "code",
   "execution_count": 6,
   "metadata": {},
   "outputs": [],
   "source": [
    "my_string = \"This is ten percent luck. Twenty percent skill. Fifteen percent concentrated power of will. Five percent pleasure. Fifty percent pain. And a hundred percent reason to remember the name\""
   ]
  },
  {
   "cell_type": "code",
   "execution_count": 9,
   "metadata": {},
   "outputs": [],
   "source": [
    "# get tokens from the string\n",
    "tokens = word_tokenize(my_string)"
   ]
  },
  {
   "cell_type": "code",
   "execution_count": 11,
   "metadata": {},
   "outputs": [
    {
     "name": "stdout",
     "output_type": "stream",
     "text": [
      "['This', 'is', 'ten', 'percent', 'luck', '.', 'Twenty', 'percent', 'skill', '.', 'Fifteen', 'percent', 'concentrated', 'power', 'of', 'will', '.', 'Five', 'percent', 'pleasure', '.', 'Fifty', 'percent', 'pain', '.', 'And', 'a', 'hundred', 'percent', 'reason', 'to', 'remember', 'the', 'name']\n"
     ]
    }
   ],
   "source": [
    "print(tokens)"
   ]
  },
  {
   "cell_type": "code",
   "execution_count": 13,
   "metadata": {},
   "outputs": [
    {
     "name": "stdout",
     "output_type": "stream",
     "text": [
      "['this', 'is', 'ten', 'percent', 'luck', '.', 'twenty', 'percent', 'skill', '.', 'fifteen', 'percent', 'concentrated', 'power', 'of', 'will', '.', 'five', 'percent', 'pleasure', '.', 'fifty', 'percent', 'pain', '.', 'and', 'a', 'hundred', 'percent', 'reason', 'to', 'remember', 'the', 'name']\n"
     ]
    }
   ],
   "source": [
    "# lets make the case similar for all \n",
    "tokens = [word.lower() for word in tokens]\n",
    "print(tokens)"
   ]
  },
  {
   "cell_type": "code",
   "execution_count": 17,
   "metadata": {},
   "outputs": [
    {
     "name": "stdout",
     "output_type": "stream",
     "text": [
      "<class 'nltk.text.Text'>\n"
     ]
    }
   ],
   "source": [
    "t = Text(tokens)\n",
    "print(type(t)) # this is object of Text and not string"
   ]
  },
  {
   "cell_type": "markdown",
   "metadata": {},
   "source": [
    "Now we have the out initial text as a Text object, while earlier we defined as a string. Using Text object we can do many things on it that were not possible while it was a string. Eg, we can perform operations like counting, concordancing, collocation and discovery"
   ]
  },
  {
   "cell_type": "markdown",
   "metadata": {},
   "source": [
    "### Text Class from nltk"
   ]
  },
  {
   "cell_type": "code",
   "execution_count": 20,
   "metadata": {},
   "outputs": [
    {
     "name": "stdout",
     "output_type": "stream",
     "text": [
      "Displaying 1 of 1 matches:\n",
      "is ten percent luck . twenty percent skill . fifteen percent concentrated power\n"
     ]
    }
   ],
   "source": [
    "t.concordance('skill')"
   ]
  },
  {
   "cell_type": "code",
   "execution_count": 34,
   "metadata": {},
   "outputs": [
    {
     "data": {
      "image/png": "[encoded data removed]",
      "text/plain": [
       "<Figure size 432x288 with 1 Axes>"
      ]
     },
     "metadata": {
      "needs_background": "light"
     },
     "output_type": "display_data"
    }
   ],
   "source": [
    "# visualize the text\n",
    "t.plot()"
   ]
  },
  {
   "cell_type": "markdown",
   "metadata": {},
   "source": [
    "# Part -1 Project \n",
    "# Use NLTK to perform stemming, lemmatiziation, tokenization, stopword removal on a dataset of your choice"
   ]
  },
  {
   "cell_type": "code",
   "execution_count": 21,
   "metadata": {},
   "outputs": [
    {
     "name": "stdout",
     "output_type": "stream",
     "text": [
      "The amber droplet hung from the branch, reaching fullness and ready to drop. It waited. While many of the other droplets were satisfied to form as big as they could and release, this droplet had other plans. It wanted to be part of history. It wanted to be remembered long after all the other droplets had dissolved into history. So it waited for the perfect specimen to fly by to trap and capture that it hoped would eventually be discovered hundreds of years in the future.She reached her goal, exhausted. Even more chilling to her was that the euphoria that she thought she'd feel upon reaching it wasn't there. Something wasn't right. Was this the only feeling she'd have for over five years of hard work?\n"
     ]
    }
   ],
   "source": [
    "text = \"The amber droplet hung from the branch, reaching fullness and ready to drop. It waited. While many of the other droplets were satisfied to form as big as they could and release, this droplet had other plans. It wanted to be part of history. It wanted to be remembered long after all the other droplets had dissolved into history. So it waited for the perfect specimen to fly by to trap and capture that it hoped would eventually be discovered hundreds of years in the future.She reached her goal, exhausted. Even more chilling to her was that the euphoria that she thought she'd feel upon reaching it wasn't there. Something wasn't right. Was this the only feeling she'd have for over five years of hard work?\"\n",
    "print(text)"
   ]
  },
  {
   "cell_type": "markdown",
   "metadata": {},
   "source": [
    "## Removing stop words"
   ]
  },
  {
   "cell_type": "code",
   "execution_count": 10,
   "metadata": {},
   "outputs": [
    {
     "name": "stdout",
     "output_type": "stream",
     "text": [
      "179\n",
      "['i', 'me', 'my', 'myself', 'we', 'our', 'ours', 'ourselves', 'you', \"you're\", \"you've\", \"you'll\", \"you'd\", 'your', 'yours', 'yourself', 'yourselves', 'he', 'him', 'his']\n"
     ]
    }
   ],
   "source": [
    "stop_words = stopwords.words('english')\n",
    "\n",
    "# lets see how many stop words are there \n",
    "print(len(stop_words))\n",
    "\n",
    "# also view first 20 stop words \n",
    "print(stop_words[:20])"
   ]
  },
  {
   "cell_type": "code",
   "execution_count": 19,
   "metadata": {},
   "outputs": [],
   "source": [
    "# remove stop words from text \n",
    "cleaned_text = [word for word in text.split() if not word in stop_words]\n",
    "cleaned_text = ' '.join(cleaned_text)"
   ]
  },
  {
   "cell_type": "code",
   "execution_count": 20,
   "metadata": {},
   "outputs": [
    {
     "data": {
      "text/plain": [
       "\"The amber droplet hung branch, reaching fullness ready drop. It waited. While many droplets satisfied form big could release, droplet plans. It wanted part history. It wanted remembered long droplets dissolved history. So waited perfect specimen fly trap capture hoped would eventually discovered hundreds years future.She reached goal, exhausted. Even chilling euphoria thought she'd feel upon reaching there. Something right. Was feeling she'd five years hard work?\""
      ]
     },
     "execution_count": 20,
     "metadata": {},
     "output_type": "execute_result"
    }
   ],
   "source": [
    "cleaned_text"
   ]
  },
  {
   "cell_type": "markdown",
   "metadata": {},
   "source": [
    "# Lemmatization"
   ]
  },
  {
   "cell_type": "code",
   "execution_count": 30,
   "metadata": {},
   "outputs": [
    {
     "name": "stdout",
     "output_type": "stream",
     "text": [
      "good is lemmatized to good\n",
      "better is lemmatized to good\n"
     ]
    }
   ],
   "source": [
    "# make an object for WordNetLemmatizer\n",
    "lemmatizer = WordNetLemmatizer() \n",
    "\n",
    "# lets check how this works\n",
    "test_words = ['good','better']\n",
    "\n",
    "for word in test_words:\n",
    "    print(word + \" is lemmatized to \" + lemmatizer.lemmatize(word,pos='a') ) # since its not a verb"
   ]
  },
  {
   "cell_type": "code",
   "execution_count": 34,
   "metadata": {},
   "outputs": [],
   "source": [
    "# lemmatizing our text \n",
    "lemmatized_text = [lemmatizer.lemmatize(word) for word in cleaned_text.split()]\n",
    "lemmatized_text = ' '.join(lemmatized_text)"
   ]
  },
  {
   "cell_type": "code",
   "execution_count": 35,
   "metadata": {},
   "outputs": [
    {
     "data": {
      "text/plain": [
       "\"The amber droplet hung branch, reaching fullness ready drop. It waited. While many droplet satisfied form big could release, droplet plans. It wanted part history. It wanted remembered long droplet dissolved history. So waited perfect specimen fly trap capture hoped would eventually discovered hundred year future.She reached goal, exhausted. Even chilling euphoria thought she'd feel upon reaching there. Something right. Was feeling she'd five year hard work?\""
      ]
     },
     "execution_count": 35,
     "metadata": {},
     "output_type": "execute_result"
    }
   ],
   "source": [
    "lemmatized_text"
   ]
  },
  {
   "cell_type": "markdown",
   "metadata": {},
   "source": [
    "# Stemming"
   ]
  },
  {
   "cell_type": "code",
   "execution_count": 44,
   "metadata": {},
   "outputs": [
    {
     "name": "stdout",
     "output_type": "stream",
     "text": [
      "good is stemmed to good\n",
      "better is stemmed to better\n",
      "\n",
      "Lets look at some more examples - \n",
      "Intersting is stemmed to - interest\n",
      "Dogs is stemmed to - dog\n"
     ]
    }
   ],
   "source": [
    "stemmer = PorterStemmer()\n",
    "\n",
    "# lets stem test words\n",
    "for word in test_words:\n",
    "    print(word + \" is stemmed to \" + stemmer.stem(word))\n",
    "    \n",
    "print('')\n",
    "print('Lets look at some more examples - ')\n",
    "print('Intersting is stemmed to - '+ stemmer.stem('Interesting'))\n",
    "print('Dogs is stemmed to - '+ stemmer.stem('Dogs'))"
   ]
  },
  {
   "cell_type": "code",
   "execution_count": 47,
   "metadata": {},
   "outputs": [],
   "source": [
    "#stemming our text \n",
    "stemmed_text = [stemmer.stem(word) for word in cleaned_text.split()]\n",
    "stemmed_text = ' '.join(stemmed_text)"
   ]
  },
  {
   "cell_type": "code",
   "execution_count": 48,
   "metadata": {},
   "outputs": [
    {
     "data": {
      "text/plain": [
       "\"the amber droplet hung branch, reach full readi drop. It waited. while mani droplet satisfi form big could release, droplet plans. It want part history. It want rememb long droplet dissolv history. So wait perfect specimen fli trap captur hope would eventu discov hundr year future.sh reach goal, exhausted. even chill euphoria thought she'd feel upon reach there. someth right. wa feel she'd five year hard work?\""
      ]
     },
     "execution_count": 48,
     "metadata": {},
     "output_type": "execute_result"
    }
   ],
   "source": [
    "stemmed_text"
   ]
  },
  {
   "cell_type": "markdown",
   "metadata": {},
   "source": [
    "We can see how stemming and lemmatization produces different texts, also observe the case in the text of stemming and lematization."
   ]
  }
 ],
 "metadata": {
  "kernelspec": {
   "display_name": "Python 3",
   "language": "python",
   "name": "python3"
  },
  "language_info": {
   "codemirror_mode": {
    "name": "ipython",
    "version": 3
   },
   "file_extension": ".py",
   "mimetype": "text/x-python",
   "name": "python",
   "nbconvert_exporter": "python",
   "pygments_lexer": "ipython3",
   "version": "3.8.3"
  }
 },
 "nbformat": 4,
 "nbformat_minor": 4
}
